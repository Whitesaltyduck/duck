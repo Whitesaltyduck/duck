{
  "nbformat": 4,
  "nbformat_minor": 0,
  "metadata": {
    "colab": {
      "provenance": [],
      "include_colab_link": true
    },
    "kernelspec": {
      "name": "python3",
      "display_name": "Python 3"
    },
    "language_info": {
      "name": "python"
    }
  },
  "cells": [
    {
      "cell_type": "markdown",
      "metadata": {
        "id": "view-in-github",
        "colab_type": "text"
      },
      "source": [
        "<a href=\"https://colab.research.google.com/github/Whitesaltyduck/duck/blob/main/Lab_Exercise_2.ipynb\" target=\"_parent\"><img src=\"https://colab.research.google.com/assets/colab-badge.svg\" alt=\"Open In Colab\"/></a>"
      ]
    },
    {
      "cell_type": "markdown",
      "source": [
        "#**Question 2. Create a list to represent a shopping cart, containing items (strings).**\n",
        "- Add items to the cart (using append())\n",
        "- Remove an item from the cart (using remove())\n",
        "- Create a function add_multiple_items that takes a list of items and uses extend to add them to the shopping cart in one go.\n",
        "- **Implement** a function capitalize_first_letter that modifies an item's name\n",
        "(capitalizing the first letter) before adding it to the cart."
      ],
      "metadata": {
        "id": "I7-AFOuM3hhj"
      }
    },
    {
      "cell_type": "markdown",
      "source": [
        "##**Step 1: Creating a Shopping Cart List**\n",
        "\n",
        "**Objective:** You need to create an empty list that will act as the shopping cart to store items.\n",
        "\n",
        "**Concepts to use:**\n",
        "- Lists: A Python list is a collection of items that can be changed. We'll use a list to store the items in the shopping cart.\n",
        "- Append method: This method adds an item to the end of the list.\n",
        "\n",
        "**Instructions:**\n",
        "\n",
        "- Create an empty list called shopping_cart.\n",
        "- Use the append() method to add items to this list as needed."
      ],
      "metadata": {
        "id": "NeSC8-no3x9p"
      }
    },
    {
      "cell_type": "code",
      "execution_count": 1,
      "metadata": {
        "id": "Jjlbmuom3gnV"
      },
      "outputs": [],
      "source": [
        "cart = []"
      ]
    },
    {
      "cell_type": "markdown",
      "source": [
        "##**Step 2: Adding and Removing Items**\n",
        "\n",
        "**Objective:** Implement functions to add or remove individual items from the shopping cart.\n",
        "\n",
        "**Concepts to use:**\n",
        "- Functions: Use functions to organize your code. A function will allow you to reuse the logic for adding and removing items.\n",
        "- Conditionals: For removing an item, check if the item exists in the shopping cart before removing it to avoid errors.\n",
        "\n",
        "**Instructions:**\n",
        "\n",
        "- Write a function add_item() that takes a single item (a string) as input and adds it to the shopping_cart using append().\n",
        "- Write another function remove_item() that takes an item as input and removes it from the shopping_cart. Use the remove() method and ensure that the function checks whether the item is present in the list before removing it."
      ],
      "metadata": {
        "id": "7fMbPB073zRg"
      }
    },
    {
      "cell_type": "code",
      "source": [
        "cart.append(\"milk\")\n",
        "print(cart)"
      ],
      "metadata": {
        "id": "DI2expBo35dK",
        "outputId": "21996749-564c-4894-df18-cbf140f859c3",
        "colab": {
          "base_uri": "https://localhost:8080/"
        }
      },
      "execution_count": 4,
      "outputs": [
        {
          "output_type": "stream",
          "name": "stdout",
          "text": [
            "['milk', 'milk']\n"
          ]
        }
      ]
    },
    {
      "cell_type": "markdown",
      "source": [
        "##**Step 3: Adding Multiple Items**\n",
        "\n",
        "**Objective:** Implement a function that allows the user to add multiple items to the shopping cart in one go.\n",
        "\n",
        "**Concepts to use:**\n",
        "- extend() method: This method allows you to add multiple items to a list in one operation.\n",
        "- List input: Accept a list of items from the user and use the extend() method to add them to the shopping_cart.\n",
        "\n",
        "**Instructions:**\n",
        "\n",
        "- Write a function add_multiple_items() that accepts a list of items as input.\n",
        "Use the extend() method to add all the items from this list to the shopping cart at once."
      ],
      "metadata": {
        "id": "K5F__NEH359A"
      }
    },
    {
      "cell_type": "code",
      "source": [
        "lisno = int(input(\"enter the number of items in the list: \"))\n",
        "for i in range(lisno):\n",
        "  item = input(\"enter the item: \")\n",
        "  cart.append(item)\n",
        "print(cart)"
      ],
      "metadata": {
        "id": "rwsLPQwK38qu",
        "outputId": "974977af-3d87-4ce7-d3ec-cf3dfce3284c",
        "colab": {
          "base_uri": "https://localhost:8080/"
        }
      },
      "execution_count": 5,
      "outputs": [
        {
          "output_type": "stream",
          "name": "stdout",
          "text": [
            "enter the number of items in the list: 3\n",
            "enter the item: milk\n",
            "enter the item: rice\n",
            "enter the item: bread\n",
            "['milk', 'milk', 'milk', 'rice', 'bread']\n"
          ]
        }
      ]
    },
    {
      "cell_type": "markdown",
      "source": [
        "##**Step 4: Capitalizing Item Names**\n",
        "\n",
        "**Objective:** Ensure that item names are properly formatted (i.e., the first letter is capitalized) when they are added to the shopping cart.\n",
        "\n",
        "**Concepts to use:**\n",
        "- String methods: Use the capitalize() method, which converts the first character of a string to uppercase and the rest to lowercase.\n",
        "- String manipulation: Modify the string before adding it to the shopping cart.\n",
        "\n",
        "**Instructions:**\n",
        "\n",
        "Write a function capitalize_first_letter() that accepts an item as input.\n",
        "Inside this function, use the capitalize() method to modify the item name.\n",
        "Then, add the capitalized item to the shopping cart using the previously defined add_item() function.\n"
      ],
      "metadata": {
        "id": "NEuDBQRN39As"
      }
    },
    {
      "cell_type": "code",
      "source": [
        "for i in range(len(cart)):\n",
        "  cart[i] = cart[i].capitalize()\n",
        "print(cart)"
      ],
      "metadata": {
        "id": "MsETg5mF3_TW",
        "outputId": "ebbb6c0b-0add-4afb-bd61-401ae802184a",
        "colab": {
          "base_uri": "https://localhost:8080/"
        }
      },
      "execution_count": 7,
      "outputs": [
        {
          "output_type": "stream",
          "name": "stdout",
          "text": [
            "['Milk', 'Milk', 'Milk', 'Rice', 'Bread']\n"
          ]
        }
      ]
    },
    {
      "cell_type": "markdown",
      "source": [
        "##**Step 5: Getting User Input for Multiple Items**\n",
        "\n",
        "**Objective:** Allow the user to input multiple items in a single line, separated by commas.\n",
        "\n",
        "**Concepts to use:**\n",
        "- input() function: This function takes user input from the command line or interface.\n",
        "\n",
        "- String manipulation: Use the split() method to divide the input string into individual items.\n",
        "\n",
        "- List comprehension: Use this Python construct to clean up each item by removing any leading or trailing whitespace with the strip() method.\n",
        "\n",
        "**Instructions:**\n",
        "- Write a function get_multiple_items() that prompts the user to input multiple items in a comma-separated format.\n",
        "- Use the split(',') method to split the input string into a list of items.\n",
        "- Use a list comprehension with the strip() method to remove any unnecessary spaces from each item.\n"
      ],
      "metadata": {
        "id": "4XOWH0X33_5Q"
      }
    },
    {
      "cell_type": "code",
      "source": [
        "lisno = int(input(\"enter the number of items in the list: \"))\n",
        "for i in range(lisno):\n",
        "  item = input(\"enter the item: \")\n",
        "  cart.append(item)\n",
        "print(cart)"
      ],
      "metadata": {
        "id": "SyBzMvas4GDM"
      },
      "execution_count": null,
      "outputs": []
    },
    {
      "cell_type": "markdown",
      "source": [
        "##**Step 6: Viewing the Cart**\n",
        "\n",
        "**Objective:**Implement a way to view the contents of the shopping cart at any time.\n",
        "\n",
        "**Concepts to use:**\n",
        "\n",
        "Print function: Display the contents of the shopping cart using the print() function.\n",
        "\n",
        "**Instructions:**\n",
        "\n",
        "Write a function view_cart() that simply prints the current contents of the shopping_cart list.\n"
      ],
      "metadata": {
        "id": "OXjl4faA4Geh"
      }
    },
    {
      "cell_type": "code",
      "source": [
        "for i in range(len(cart)):\n",
        "  print(cart[i])"
      ],
      "metadata": {
        "id": "P6JxsPf74JiO",
        "outputId": "5468afd7-e6a1-4d87-8757-c4cda8932c5d",
        "colab": {
          "base_uri": "https://localhost:8080/"
        }
      },
      "execution_count": 8,
      "outputs": [
        {
          "output_type": "stream",
          "name": "stdout",
          "text": [
            "Milk\n",
            "Milk\n",
            "Milk\n",
            "Rice\n",
            "Bread\n"
          ]
        }
      ]
    },
    {
      "cell_type": "markdown",
      "source": [
        "##**Step 7: Switch-Case Menu Simulation**\n",
        "\n",
        "**Objective:** Build a user-friendly menu that allows users to choose different operations (add, remove, view, exit) in an interactive way.\n",
        "\n",
        "**Concepts to use:**\n",
        "- Loops: Use a while loop to continuously show the menu until the user chooses to exit.\n",
        "- Conditionals (if-elif-else): Since Python doesn't have a switch-case statement, you can simulate it using if-elif-else blocks.\n",
        "- User input: Use input() to let the user select an option and respond based on the selection.\n",
        "\n",
        "**Instructions:**\n",
        "- Create a menu() function that displays a list of options for the user, such as adding an item, removing an item, viewing the cart, adding multiple items, or exiting.\n",
        "- In a while loop, repeatedly show the menu until the user chooses the \"Exit\" option.\n",
        "- Use if-elif-else to handle the user's choice by calling the appropriate function based on their input.\n",
        "- Use a condition to break the loop and end the program when the user chooses to exit.\n"
      ],
      "metadata": {
        "id": "CRXP2SVw4J6c"
      }
    },
    {
      "cell_type": "code",
      "source": [],
      "metadata": {
        "id": "iM9jCPZp4ND3"
      },
      "execution_count": null,
      "outputs": []
    },
    {
      "cell_type": "markdown",
      "source": [
        "##**Step 8: Testing the Program**\n",
        "\n",
        "**Objective:** Ensure that the program works as expected by testing various user inputs.\n",
        "\n",
        "**Concepts to use:**\n",
        "\n",
        "- Test cases: Run multiple test cases to ensure all functions behave correctly.\n",
        "- Edge cases: Test with edge cases like adding an item that’s already in the cart, removing an item that’s not present, or adding an empty string.\n",
        "\n",
        "**Instructions:**\n",
        "\n",
        "- After implementing the menu and functions, run the program.\n",
        "- Test all the options: adding an item, removing it, adding multiple items, capitalizing items, and viewing the cart.\n",
        "- Ensure that invalid inputs, like removing an item that doesn’t exist, are handled gracefully by your program.\n"
      ],
      "metadata": {
        "id": "fzs5kRkO4QCB"
      }
    },
    {
      "cell_type": "code",
      "source": [],
      "metadata": {
        "id": "HfVW5Gfj4Q67"
      },
      "execution_count": null,
      "outputs": []
    }
  ]
}